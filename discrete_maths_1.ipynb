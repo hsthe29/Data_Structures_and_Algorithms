{
 "cells": [
  {
   "cell_type": "code",
   "execution_count": 1,
   "metadata": {},
   "outputs": [],
   "source": [
    "from collections import defaultdict\n",
    "import sys"
   ]
  },
  {
   "cell_type": "markdown",
   "metadata": {},
   "source": [
    "#Problem: Planning"
   ]
  },
  {
   "cell_type": "code",
   "execution_count": 67,
   "metadata": {},
   "outputs": [
    {
     "name": "stdout",
     "output_type": "stream",
     "text": [
      "A: ['2  ', '6  ', '5  ', '7  ', '4  ', '3  ']\n",
      "B: ['2  ', '7  ', '4  ', '4  ', '3  ', '1  ']\n",
      "Min time:  28\n"
     ]
    }
   ],
   "source": [
    "class Opt:\n",
    "    def __init__(self, A, B):\n",
    "        self.L = [[A[i], B[i]] for i in range(len(A)) if A[i] <= B[i]]\n",
    "        self.L2 = [[A[i], B[i]] for i in range(len(A)) if A[i] > B[i]]\n",
    "        self.L.sort(key = lambda x : x[0])\n",
    "        self.L2.sort(key = lambda x : x[1], reverse = True)\n",
    "        self.L = self.L + self.L2\n",
    "\n",
    "    def run(self):\n",
    "        ans_a, ans_b = 0, 0\n",
    "        for i in self.L:\n",
    "            ans_a += i[0]\n",
    "            ans_b = max(ans_a, ans_b) + i[1]\n",
    "        print('A: ', end = '')\n",
    "        print([str(i[0]) + '  ' for i in self.L])\n",
    "        print('B: ', end = '')\n",
    "        print([str(i[1]) + '  ' for i in self.L])\n",
    "        print('Min time: ', ans_b)\n",
    "        \n",
    "\n",
    "A = [3, 2, 5, 4, 6, 7]\n",
    "B = [1, 2, 4, 3, 7, 4]\n",
    "\n",
    "x = Opt(A, B)\n",
    "\n",
    "x.run() "
   ]
  },
  {
   "cell_type": "markdown",
   "metadata": {},
   "source": [
    "#Problem: Knapsack"
   ]
  },
  {
   "cell_type": "code",
   "execution_count": 5,
   "metadata": {},
   "outputs": [
    {
     "data": {
      "text/plain": [
       "26"
      ]
     },
     "execution_count": 5,
     "metadata": {},
     "output_type": "execute_result"
    }
   ],
   "source": [
    "class Knapsack:\n",
    "    def __init__(self, W, V, c):\n",
    "        self.c = c\n",
    "        self.W = W\n",
    "        self.V = V\n",
    "\n",
    "    def run(self):\n",
    "        dp = [0 for i in range(self.c + 1)]\n",
    "    \n",
    "        ans = 0\n",
    "    \n",
    "        for i in range(self.c + 1):\n",
    "            for j in range(len(self.W)):\n",
    "                if (self.W[j] <= i):\n",
    "                    dp[i] = max(dp[i], dp[i - self.W[j]] + self.V[j])\n",
    "    \n",
    "        return dp[self.c]\n",
    "\n",
    "\n",
    "W = [4, 2, 3, 5]\n",
    "V = [6, 3, 5, 10]\n",
    "\n",
    "x = Knapsack(W, V, 14)\n",
    "x.run()"
   ]
  },
  {
   "cell_type": "markdown",
   "metadata": {},
   "source": [
    "#Problem: Traveling Saleman (TSP)"
   ]
  },
  {
   "cell_type": "code",
   "execution_count": 52,
   "metadata": {},
   "outputs": [
    {
     "name": "stdout",
     "output_type": "stream",
     "text": [
      "Min cost:  37\n",
      "[1, 4, 2, 5, 3, 7, 9, 6, 8, 10]\n"
     ]
    }
   ],
   "source": [
    "class TSP:\n",
    "    def __init__(self, filePath, start):\n",
    "        file = open(filePath, 'r')\n",
    "        self.n = int(file.readline())\n",
    "        self.c = [[int(i) for i in line.strip().split(' ')] for line in file.readlines()]\n",
    "        file.close()\n",
    "        self.cmin = min(min(r) for r in self.c)\n",
    "        self.mark = [True] * self.n\n",
    "        self.ans = [0] * self.n\n",
    "        self.path = []\n",
    "        self.mark[start - 1] = False\n",
    "        self.fmin = 1e10\n",
    "        self.f = 0\n",
    "    \n",
    "    def run(self, k = 1):\n",
    "        for i in range(self.n):\n",
    "            if self.mark[i]:\n",
    "                self.ans[k] = i\n",
    "                self.f += self.c[self.ans[k - 1]][i]\n",
    "                self.mark[i] = False\n",
    "                if k == self.n - 1:\n",
    "                    if self.f + self.c[i][0] < self.fmin:\n",
    "                        self.fmin = self.f + self.c[i][0]\n",
    "                        self.path = list(map(lambda x : x + 1, self.ans))\n",
    "                else:\n",
    "                    if self.f + self.cmin * (self.n - k) < self.fmin:\n",
    "                        self.run(k + 1)\n",
    "                self.mark[i] = True\n",
    "                self.f -= self.c[self.ans[k - 1]][i]\n",
    "\n",
    "\n",
    "obj = TSP('tsp-10.txt', 1)\n",
    "\n",
    "obj.run()\n",
    "print(\"Min cost: \",obj.fmin)\n",
    "print(obj.path)\n"
   ]
  },
  {
   "cell_type": "markdown",
   "metadata": {},
   "source": [
    "#Problem: Counting"
   ]
  },
  {
   "cell_type": "code",
   "execution_count": 12,
   "metadata": {},
   "outputs": [
    {
     "name": "stdout",
     "output_type": "stream",
     "text": [
      "1 1 1 1 6\n",
      "1 1 1 2 5\n",
      "1 1 1 3 4\n",
      "1 1 1 4 3\n",
      "1 1 1 5 2\n",
      "1 1 1 6 1\n",
      "1 1 2 1 5\n",
      "1 1 2 2 4\n",
      "1 1 2 3 3\n",
      "1 1 2 4 2\n",
      "1 1 2 5 1\n",
      "1 1 3 1 4\n",
      "1 1 3 2 3\n",
      "1 1 3 3 2\n",
      "1 1 3 4 1\n",
      "1 1 4 1 3\n",
      "1 1 4 2 2\n",
      "1 1 4 3 1\n",
      "1 1 5 1 2\n",
      "1 1 5 2 1\n",
      "1 1 6 1 1\n",
      "1 2 1 1 5\n",
      "1 2 1 2 4\n",
      "1 2 1 3 3\n",
      "1 2 1 4 2\n",
      "1 2 1 5 1\n",
      "1 2 2 1 4\n",
      "1 2 2 2 3\n",
      "1 2 2 3 2\n",
      "1 2 2 4 1\n",
      "1 2 3 1 3\n",
      "1 2 3 2 2\n",
      "1 2 3 3 1\n",
      "1 2 4 1 2\n",
      "1 2 4 2 1\n",
      "1 2 5 1 1\n",
      "1 3 1 1 4\n",
      "1 3 1 2 3\n",
      "1 3 1 3 2\n",
      "1 3 1 4 1\n",
      "1 3 2 1 3\n",
      "1 3 2 2 2\n",
      "1 3 2 3 1\n",
      "1 3 3 1 2\n",
      "1 3 3 2 1\n",
      "1 3 4 1 1\n",
      "1 4 1 1 3\n",
      "1 4 1 2 2\n",
      "1 4 1 3 1\n",
      "1 4 2 1 2\n",
      "1 4 2 2 1\n",
      "1 4 3 1 1\n",
      "1 5 1 1 2\n",
      "1 5 1 2 1\n",
      "1 5 2 1 1\n",
      "1 6 1 1 1\n",
      "2 1 1 1 5\n",
      "2 1 1 2 4\n",
      "2 1 1 3 3\n",
      "2 1 1 4 2\n",
      "2 1 1 5 1\n",
      "2 1 2 1 4\n",
      "2 1 2 2 3\n",
      "2 1 2 3 2\n",
      "2 1 2 4 1\n",
      "2 1 3 1 3\n",
      "2 1 3 2 2\n",
      "2 1 3 3 1\n",
      "2 1 4 1 2\n",
      "2 1 4 2 1\n",
      "2 1 5 1 1\n",
      "2 2 1 1 4\n",
      "2 2 1 2 3\n",
      "2 2 1 3 2\n",
      "2 2 1 4 1\n",
      "2 2 2 1 3\n",
      "2 2 2 2 2\n",
      "2 2 2 3 1\n",
      "2 2 3 1 2\n",
      "2 2 3 2 1\n",
      "2 2 4 1 1\n",
      "2 3 1 1 3\n",
      "2 3 1 2 2\n",
      "2 3 1 3 1\n",
      "2 3 2 1 2\n",
      "2 3 2 2 1\n",
      "2 3 3 1 1\n",
      "2 4 1 1 2\n",
      "2 4 1 2 1\n",
      "2 4 2 1 1\n",
      "2 5 1 1 1\n",
      "3 1 1 1 4\n",
      "3 1 1 2 3\n",
      "3 1 1 3 2\n",
      "3 1 1 4 1\n",
      "3 1 2 1 3\n",
      "3 1 2 2 2\n",
      "3 1 2 3 1\n",
      "3 1 3 1 2\n",
      "3 1 3 2 1\n",
      "3 1 4 1 1\n",
      "3 2 1 1 3\n",
      "3 2 1 2 2\n",
      "3 2 1 3 1\n",
      "3 2 2 1 2\n",
      "3 2 2 2 1\n",
      "3 2 3 1 1\n",
      "3 3 1 1 2\n",
      "3 3 1 2 1\n",
      "3 3 2 1 1\n",
      "3 4 1 1 1\n",
      "4 1 1 1 3\n",
      "4 1 1 2 2\n",
      "4 1 1 3 1\n",
      "4 1 2 1 2\n",
      "4 1 2 2 1\n",
      "4 1 3 1 1\n",
      "4 2 1 1 2\n",
      "4 2 1 2 1\n",
      "4 2 2 1 1\n",
      "4 3 1 1 1\n",
      "5 1 1 1 2\n",
      "5 1 1 2 1\n",
      "5 1 2 1 1\n",
      "5 2 1 1 1\n",
      "6 1 1 1 1\n",
      "126\n",
      "Distinct Answer: 7\n",
      "(1, 1, 2, 2, 4)\n",
      "(1, 2, 2, 2, 3)\n",
      "(1, 1, 1, 1, 6)\n",
      "(1, 1, 2, 3, 3)\n",
      "(1, 1, 1, 3, 4)\n",
      "(2, 2, 2, 2, 2)\n",
      "(1, 1, 1, 2, 5)\n"
     ]
    }
   ],
   "source": [
    "class FindRoot:\n",
    "    def __init__(self, coeffs, M):\n",
    "        self.coeffs = coeffs\n",
    "        self.M = M\n",
    "        self.n = len(coeffs)\n",
    "        self.ans = [0] * self.n\n",
    "        self.count = 0\n",
    "        self.uniqueAnswer = set()\n",
    "\n",
    "    def run(self, k = 0):\n",
    "        for i in range(1, self.M // self.coeffs[k] + 1):\n",
    "            self.M -= i * self.coeffs[k]\n",
    "            self.ans[k] = i\n",
    "            if k == self.n - 1:\n",
    "                if self.M == 0:\n",
    "                    self.count += 1\n",
    "                    sys.stdout.write(' '.join(map(str, self.ans)) + '\\n')\n",
    "                    self.uniqueAnswer.add(tuple(sorted(self.ans)))\n",
    "            else:\n",
    "                self.run(k + 1)\n",
    "            self.M += i * self.coeffs[k]\n",
    "\n",
    "    def distinct(self):\n",
    "        print(\"Distinct Answer:\", len(self.uniqueAnswer))\n",
    "        print(*(i for i in self.uniqueAnswer), sep = '\\n')\n",
    "\n",
    "\n",
    "coeff = [1, 1, 1, 1, 1]\n",
    "obj = FindRoot(coeff, 10)\n",
    "obj.run()\n",
    "print(obj.count)\n",
    "obj.distinct()\n"
   ]
  },
  {
   "cell_type": "markdown",
   "metadata": {},
   "source": [
    "#Problem: Decompose"
   ]
  },
  {
   "cell_type": "code",
   "execution_count": 29,
   "metadata": {},
   "outputs": [
    {
     "name": "stdout",
     "output_type": "stream",
     "text": [
      "Number of answers: 966467\n"
     ]
    }
   ],
   "source": [
    "class Decompose:\n",
    "    def __init__(self, M):\n",
    "        self.M = M\n",
    "        self.ans = [M] * (M + 1)\n",
    "        self.count = 0\n",
    "    \n",
    "    def run(self, k = 1):\n",
    "        for i in range(min(self.ans[k - 1], self.M), 0, -1):\n",
    "            self.ans[k] = i\n",
    "            self.M -= i\n",
    "            if self.M == 0:\n",
    "                self.count += 1\n",
    "                #sys.stdout.write(' '.join(map(str, self.ans[1:k + 1])) + '\\n')\n",
    "            else:\n",
    "                self.run(k + 1)\n",
    "            self.M += i\n",
    "\n",
    "\n",
    "obj = Decompose(60)\n",
    "\n",
    "obj.run()\n",
    "print(\"Number of answers: %s\" % (obj.count))"
   ]
  },
  {
   "cell_type": "markdown",
   "metadata": {},
   "source": [
    "#Problem: Euler"
   ]
  },
  {
   "cell_type": "code",
   "execution_count": 114,
   "metadata": {},
   "outputs": [
    {
     "name": "stdout",
     "output_type": "stream",
     "text": [
      "1 -> 3 -> 6 -> 7 -> 5 -> 6 -> 4 -> 5 -> 2 -> 4 -> 3 -> 2 -> 1\n"
     ]
    }
   ],
   "source": [
    "class Euler:\n",
    "    def __init__(self, filePath):\n",
    "        file = open(filePath, 'r')\n",
    "        self.A = defaultdict(list)\n",
    "        self.n, m = file.readline().strip().split(' ')\n",
    "        for _ in range(int(m)):\n",
    "            u, v = file.readline().strip().split(' ')\n",
    "            self.A[u].append(v)\n",
    "            self.A[v].append(u)\n",
    "        #print(dict(self.A))\n",
    "\n",
    "    def run(self):\n",
    "        stack = ['1']\n",
    "        solution = []\n",
    "        while len(stack) > 0:\n",
    "            u = stack[-1]\n",
    "            if u not in self.A.keys() or len(self.A[u]) == 0:\n",
    "                solution.append(stack.pop())\n",
    "                continue\n",
    "            v = self.A[u].pop(0)\n",
    "            stack.append(v)\n",
    "            self.A[v].remove(u)\n",
    "        print(' -> '.join(solution))\n",
    "\n",
    "\n",
    "obj = Euler('euler.txt')\n",
    "obj.run()\n"
   ]
  },
  {
   "cell_type": "markdown",
   "metadata": {},
   "source": [
    "#Problem: Hamilton"
   ]
  },
  {
   "cell_type": "code",
   "execution_count": 113,
   "metadata": {},
   "outputs": [
    {
     "name": "stdout",
     "output_type": "stream",
     "text": [
      "1 -> 2 -> 4 -> 5 -> 7 -> 6 -> 3 -> 1\n",
      "1 -> 2 -> 5 -> 7 -> 6 -> 4 -> 3 -> 1\n",
      "1 -> 3 -> 4 -> 6 -> 7 -> 5 -> 2 -> 1\n",
      "1 -> 3 -> 6 -> 7 -> 5 -> 4 -> 2 -> 1\n",
      "distinct answer:\n",
      "1 -> 2 -> 4 -> 5 -> 7 -> 6 -> 3 -> 1\n",
      "1 -> 2 -> 5 -> 7 -> 6 -> 4 -> 3 -> 1\n"
     ]
    }
   ],
   "source": [
    "class Hamilton:\n",
    "    def __init__(self, filePath):\n",
    "        file = open(filePath, 'r')\n",
    "        self.A = defaultdict(list)\n",
    "        self.n, m = file.readline().strip().split(' ')\n",
    "        for _ in range(int(m)):\n",
    "            u, v = file.readline().strip().split(' ')\n",
    "            self.A[u].append(v)\n",
    "            self.A[v].append(u)\n",
    "        self.Set = {'1'}\n",
    "        self.solution = ['1'] * int(self.n)\n",
    "        self.solution.append('1')\n",
    "        self.distinct_answer = []\n",
    "\n",
    "    def run(self, k = 1):\n",
    "        for i in self.A[self.solution[k - 1]]:\n",
    "            if i not in self.Set:\n",
    "                self.Set.add(i)\n",
    "                self.solution[k] = i\n",
    "                if k == int(self.n) - 1:\n",
    "                    if '1' in self.A[i]:\n",
    "                        print(' -> '.join(self.solution))\n",
    "                        if tuple(self.solution) not in self.distinct_answer and \\\n",
    "                            tuple(self.solution[::-1]) not in self.distinct_answer:\n",
    "                            self.distinct_answer.append(tuple(self.solution))\n",
    "                else:\n",
    "                    self.run(k + 1)\n",
    "                self.Set.remove(i)\n",
    "\n",
    "    def distinct(self):\n",
    "        print('distinct answer:')\n",
    "        for i in self.distinct_answer:\n",
    "            print(' -> '.join(i))\n",
    "\n",
    "\n",
    "obj = Hamilton('euler.txt')      \n",
    "obj.run()\n",
    "obj.distinct()"
   ]
  },
  {
   "cell_type": "markdown",
   "metadata": {},
   "source": [
    "#Problem: Complete Graph"
   ]
  },
  {
   "cell_type": "code",
   "execution_count": 11,
   "metadata": {},
   "outputs": [
    {
     "name": "stdout",
     "output_type": "stream",
     "text": [
      "False\n"
     ]
    }
   ],
   "source": [
    "class CGraph:\n",
    "    def __init__(self, V, E):\n",
    "        self.V = list(V)\n",
    "        self.E_all = E\n",
    "        self.E = {tuple(sorted(e)) for e in E}\n",
    "        self.n = len(V)\n",
    "        self.run()\n",
    "    \n",
    "    def run(self):\n",
    "        self.arr = [0] * (self.n + 1)\n",
    "        for e in self.E_all:\n",
    "            self.arr[e[0]] += 1\n",
    "            self.arr[e[1]] += 1\n",
    "    \n",
    "    def checkIsComplete(self):\n",
    "        numOfEdges = self.n * (self.n - 1) // 2\n",
    "        return numOfEdges == len(self.E)\n",
    "\n",
    "    def edge_added(self):\n",
    "        count = 0\n",
    "        fa = 0\n",
    "        for i in range(1, self.n + 1):\n",
    "            if self.arr[i] & 1 == 1:\n",
    "                count += 1\n",
    "            elif self.arr[i] == 0:\n",
    "                fa += 2\n",
    "        print((count // 2 + fa) if count & 1 == 0 else 'Unable!')\n",
    "\n",
    "    def isEuler(self):\n",
    "        for i in self.arr[1::]:\n",
    "            if (i & 1) == 1 or i == 0:\n",
    "                return False\n",
    "        return True\n",
    "\n",
    "\n",
    "V = {1, 2, 3, 4, 5, 6}\n",
    "E ={(1,2),(1,3),(1,6),(2,3),(2,5),(2,6),(4,5),(4,6),(5,6)}\n",
    "\n",
    "cgr = CGraph(V, E)\n",
    "print(cgr.isEuler())"
   ]
  },
  {
   "cell_type": "markdown",
   "metadata": {},
   "source": [
    "#Problem: Permutation"
   ]
  },
  {
   "cell_type": "code",
   "execution_count": 8,
   "metadata": {},
   "outputs": [
    {
     "name": "stdout",
     "output_type": "stream",
     "text": [
      "[4, 5, 8, 3, 1, 2, 6, 7]\n",
      "[4, 5, 8, 3, 1, 2, 7, 6]\n",
      "[4, 5, 8, 3, 1, 6, 2, 7]\n",
      "[4, 5, 8, 3, 1, 6, 7, 2]\n",
      "[4, 5, 8, 3, 1, 7, 2, 6]\n",
      "[4, 5, 8, 3, 1, 7, 6, 2]\n",
      "[4, 5, 8, 3, 2, 1, 6, 7]\n",
      "[4, 5, 8, 3, 2, 1, 7, 6]\n",
      "[4, 5, 8, 3, 2, 6, 1, 7]\n",
      "[4, 5, 8, 3, 2, 6, 7, 1]\n"
     ]
    }
   ],
   "source": [
    "class Permu:\n",
    "    def __init__(self, F):\n",
    "        self.F = F\n",
    "        self.n = len(F)\n",
    "\n",
    "\n",
    "    def run(self):\n",
    "        count = 10\n",
    "        while count > 0:\n",
    "            j = self.n - 2\n",
    "            while self.F[j] > self.F[j + 1] and j > -1:\n",
    "                j -= 1;\n",
    "            if j < 0:\n",
    "                break\n",
    "            i = self.n - 1\n",
    "            while self.F[j] > self.F[i]:\n",
    "                i -= 1;\n",
    "            self.F[j], self.F[i] = self.F[i], self.F[j]\n",
    "            self.F[j + 1:] = list(reversed(self.F[j + 1:]))\n",
    "            print(self.F)\n",
    "            count -= 1\n",
    "            \n",
    "\n",
    "Permu([4, 5, 8, 2, 7, 6, 3, 1]).run()"
   ]
  }
 ],
 "metadata": {
  "interpreter": {
   "hash": "bd3bb1f87169cb58c471d07b42a81f234c7d56028bf0ba0ec349fcff4f2c061b"
  },
  "kernelspec": {
   "display_name": "Python 3.9.9 64-bit (windows store)",
   "language": "python",
   "name": "python3"
  },
  "language_info": {
   "codemirror_mode": {
    "name": "ipython",
    "version": 3
   },
   "file_extension": ".py",
   "mimetype": "text/x-python",
   "name": "python",
   "nbconvert_exporter": "python",
   "pygments_lexer": "ipython3",
   "version": "3.9.9"
  },
  "orig_nbformat": 4
 },
 "nbformat": 4,
 "nbformat_minor": 2
}
