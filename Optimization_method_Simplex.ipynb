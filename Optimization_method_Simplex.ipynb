{
 "cells": [
  {
   "cell_type": "code",
   "execution_count": 1,
   "metadata": {},
   "outputs": [
    {
     "name": "stdout",
     "output_type": "stream",
     "text": [
      "   He so        Co so        Phuong an    ..................................................................      theta\n",
      "      3.0         3.0         7.0         2.0         0.0         2.0         1.0         0.0         0.0         3.5   \n",
      "      0.0         4.0         4.0         -1.0        2.0         2.0         0.0         1.0         0.0         inf   \n",
      "      1.0         5.0         5.0         1.0         1.0         1.0         0.0         0.0         1.0         5.0   \n",
      "      0.0         0.0         26.0        9.0         -1.0        6.0         0.0         0.0         0.0         0.0   \n",
      "\n",
      "   He so        Co so        Phuong an    ..................................................................      theta\n",
      "      -2.0        0.0         3.5         1.0         0.0         1.0         0.5         0.0         0.0         3.5   \n",
      "      0.0         4.0         7.5         0.0         2.0         3.0         0.5         1.0         0.0         inf   \n",
      "      1.0         5.0         1.5         0.0         1.0         0.0         -0.5        0.0         1.0         inf   \n",
      "      0.0         0.0         -5.5        0.0         -1.0        -3.0        -4.5        0.0         0.0         0.0   \n",
      "\n",
      "Solution: [3.5 0.  0.  0.  7.5 1.5]\n",
      "Min f :  -5.5\n"
     ]
    }
   ],
   "source": [
    "import numpy as np\n",
    "tb = np.array([[]])\n",
    "class Simplex_method:\n",
    "    def __init__(this, c, A, Sol):\n",
    "        this.m, this.n = A.shape\n",
    "        this.Sol = Sol\n",
    "        this.c = c\n",
    "        this.J_xo = np.array([i for i in range(Sol.size) if Sol[i] > 0])\n",
    "        this.basis = np.array([A[:, i] for i in this.J_xo]).T\n",
    "        this.z = np.array([np.linalg.solve(this.basis, A[:, i]) for i in range(this.n)]).T\n",
    "    \n",
    "    def delta_s(this):\n",
    "        return np.array([this.z[:, i].dot(this.c[this.J_xo]) - this.c[i] for i in range(this.n)])\n",
    "\n",
    "    def found_solution(this, delta):\n",
    "        return not(False in (this.delta <= 0))\n",
    "\n",
    "    def no_solution(this):\n",
    "        return True in [this.check(i) for i in range(this.n)]\n",
    "    \n",
    "    def check(this, i):\n",
    "        return (not i in this.J_xo) and this.delta[i] > 0 and (not False in (this.z[:, i] <= 0))\n",
    "\n",
    "    def show(this, table, depth, width):\n",
    "        print('   He so        Co so        Phuong an    ..................................................................      theta')\n",
    "        for i in range(depth):\n",
    "            for j in range(width):\n",
    "                print('      {:6s}'.format(str(table[i, j] if table[i, j] < 1e9 else 'inf')), end='')\n",
    "            print()\n",
    "        print()\n",
    "        \n",
    "\n",
    "    def run(this):\n",
    "        table = np.zeros((this.m + 1, this.n + 4))\n",
    "\n",
    "        while (True):\n",
    "            result = this.Sol[this.J_xo].dot(this.c[this.J_xo])\n",
    "            this.delta = this.delta_s()\n",
    "            s = np.argmax(this.delta)\n",
    "            theta = np.array([1e9 if this.z[i, s] <= 0 else this.Sol[this.J_xo[i]] / this.z[i, s] for i in range(this.m)])\n",
    "\n",
    "            table[:this.m, 3:this.n + 3] = this.z\n",
    "            table[:this.m, 0] = this.c[this.J_xo]\n",
    "            table[:this.m, 1] = this.J_xo\n",
    "            table[:this.m, 2] = this.Sol[this.J_xo]\n",
    "            table[this.m, 3:this.n + 3] =this.delta\n",
    "            table[:this.m, this.n + 3] = theta\n",
    "            table[this.m, 2] = result\n",
    "            this.show(table, this.m + 1, this.n + 4)\n",
    "            this.tb = table\n",
    "\n",
    "            if this.found_solution(this.delta):\n",
    "                print(\"Solution:\", this.Sol)\n",
    "                print(\"Min f : \", result)\n",
    "                break\n",
    "            if this.no_solution():\n",
    "                print(\"No Solution!\")\n",
    "                break\n",
    "            \n",
    "            sr = np.argmin(theta)\n",
    "            r = this.J_xo[sr]\n",
    "            this.Sol[s] = this.Sol[r] / this.z[sr, s]\n",
    "            this.z[sr] /= this.z[sr, s]\n",
    "\n",
    "            for i in range(this.m):\n",
    "                if i != sr:\n",
    "                    this.Sol[this.J_xo[i]] -= this.Sol[s] * this.z[i, s]\n",
    "                    this.z[i] -= this.z[sr] * this.z[i, s]\n",
    "            \n",
    "            this.Sol[r] = 0\n",
    "            this.J_xo[sr] = s\n",
    "\n",
    "c = np.array([-2, 2, 1, 3, 0, 1], dtype = 'float64')\n",
    "A = np.array([[-1, 2, 2, 0, 1, 0],\n",
    "            [1, 1, 1, 0, 0, 1],\n",
    "            [2, 0, 2, 1, 0, 0]], dtype = 'float64')\n",
    "preSol = np.array([0, 0, 0, 7, 4, 5], dtype = 'float64')\n",
    "'''\n",
    "c = np.array([1, -4, -3, 0, 0 , 0], dtype = 'float64')\n",
    "A = np.array([[2, 1, -2, 1, 0, 0],\n",
    "            [-4, 0, 2, 0, 1, 0],\n",
    "            [1, 2, -1, 0, 0, 1]], dtype = 'float64')\n",
    "preSol = np.array([0, 0, 0, 16, 8, 12], dtype = 'float64')\n",
    "'''\n",
    "\n",
    "test = Simplex_method(c, A, preSol)\n",
    "\n",
    "test.run()\n",
    "tb = test.tb\n"
   ]
  },
  {
   "cell_type": "code",
   "execution_count": 2,
   "metadata": {},
   "outputs": [
    {
     "name": "stdout",
     "output_type": "stream",
     "text": [
      "[1, 2, 3] [1, 5, 7]\n"
     ]
    }
   ],
   "source": [
    "skn = [[1, 2, 3], [1, 5, 7]]\n",
    "print(*skn)"
   ]
  }
 ],
 "metadata": {
  "interpreter": {
   "hash": "bd3bb1f87169cb58c471d07b42a81f234c7d56028bf0ba0ec349fcff4f2c061b"
  },
  "kernelspec": {
   "display_name": "Python 3.9.9 64-bit (windows store)",
   "language": "python",
   "name": "python3"
  },
  "language_info": {
   "codemirror_mode": {
    "name": "ipython",
    "version": 3
   },
   "file_extension": ".py",
   "mimetype": "text/x-python",
   "name": "python",
   "nbconvert_exporter": "python",
   "pygments_lexer": "ipython3",
   "version": "3.9.9"
  },
  "orig_nbformat": 4
 },
 "nbformat": 4,
 "nbformat_minor": 2
}
