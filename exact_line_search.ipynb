{
 "cells": [
  {
   "cell_type": "code",
   "execution_count": 32,
   "metadata": {},
   "outputs": [
    {
     "name": "stdout",
     "output_type": "stream",
     "text": [
      "0.5\n",
      "Found: [1, 1.0]\n"
     ]
    }
   ],
   "source": [
    "from sympy import Symbol, symbols, diff, simplify, lambdify, Poly, expand\n",
    "import numpy as np\n",
    "\n",
    "symbol = symbols('x y')\n",
    "t = Symbol('t')\n",
    "\n",
    "class Exact_line_search:\n",
    "    def __init__(self, exprr, eps, x):\n",
    "        self.f = simplify(exprr)\n",
    "        self.eps = eps\n",
    "        self.x = x\n",
    "        self.g = [self.f.diff(i) for i in symbol]\n",
    "        self.grad = lambdify(symbol, self.g)\n",
    "        self.F = lambdify(symbol, self.f)\n",
    "        \n",
    "    def run(self):\n",
    "        iterate = 1\n",
    "        flag = True\n",
    "        while iterate < 500:\n",
    "            new_x = [self.x[0] - t * self.grad(*self.x)[0], self.x[1] - t * self.grad(*self.x)[1]]\n",
    "            phi = expand(self.F(*new_x))\n",
    "            coeff = Poly(phi.diff(t), t).all_coeffs()\n",
    "            tk = min(filter(lambda x : x > 0, np.roots(coeff)))\n",
    "            print(tk)\n",
    "            self.x = lambdify(t, new_x)(tk)\n",
    "            if np.linalg.norm(self.grad(*self.x)) < self.eps:\n",
    "                print(\"Found:\", self.x)\n",
    "                flag = False\n",
    "                break\n",
    "            print('x{:d}'.format(iterate), self.x)\n",
    "            iterate += 1\n",
    "        if flag:\n",
    "            print(\"No solutions!\")\n",
    "\n",
    "exprr = 'x**3 + y ** 2 +  -3*x - 2 * y + 12'\n",
    "x = [1, 2]\n",
    "eps = 0.00000001\n",
    "test = Exact_line_search(exprr, eps, x)\n",
    "test.run()\n"
   ]
  }
 ],
 "metadata": {
  "interpreter": {
   "hash": "bd3bb1f87169cb58c471d07b42a81f234c7d56028bf0ba0ec349fcff4f2c061b"
  },
  "kernelspec": {
   "display_name": "Python 3.9.9 64-bit (windows store)",
   "language": "python",
   "name": "python3"
  },
  "language_info": {
   "codemirror_mode": {
    "name": "ipython",
    "version": 3
   },
   "file_extension": ".py",
   "mimetype": "text/x-python",
   "name": "python",
   "nbconvert_exporter": "python",
   "pygments_lexer": "ipython3",
   "version": "3.9.9"
  },
  "orig_nbformat": 4
 },
 "nbformat": 4,
 "nbformat_minor": 2
}
